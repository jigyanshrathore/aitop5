{
 "cells": [
  {
   "cell_type": "code",
   "execution_count": 5,
   "metadata": {},
   "outputs": [],
   "source": [
    "import pandas as pd\n",
    "import numpy as np \n",
    "import json"
   ]
  },
  {
   "cell_type": "code",
   "execution_count": 6,
   "metadata": {},
   "outputs": [],
   "source": [
    "from sklearn.feature_extraction.text import TfidfVectorizer\n",
    "from sklearn.metrics.pairwise import cosine_similarity\n"
   ]
  },
  {
   "cell_type": "code",
   "execution_count": 7,
   "metadata": {},
   "outputs": [],
   "source": [
    "import re"
   ]
  },
  {
   "cell_type": "code",
   "execution_count": 8,
   "metadata": {},
   "outputs": [],
   "source": [
    "questions_df = pd.read_csv('clearfeed_qa_pairs.csv')\n"
   ]
  },
  {
   "cell_type": "code",
   "execution_count": 9,
   "metadata": {},
   "outputs": [
    {
     "data": {
      "text/html": [
       "<div>\n",
       "<style scoped>\n",
       "    .dataframe tbody tr th:only-of-type {\n",
       "        vertical-align: middle;\n",
       "    }\n",
       "\n",
       "    .dataframe tbody tr th {\n",
       "        vertical-align: top;\n",
       "    }\n",
       "\n",
       "    .dataframe thead th {\n",
       "        text-align: right;\n",
       "    }\n",
       "</style>\n",
       "<table border=\"1\" class=\"dataframe\">\n",
       "  <thead>\n",
       "    <tr style=\"text-align: right;\">\n",
       "      <th></th>\n",
       "      <th>question</th>\n",
       "      <th>answer</th>\n",
       "      <th>url</th>\n",
       "    </tr>\n",
       "  </thead>\n",
       "  <tbody>\n",
       "    <tr>\n",
       "      <th>0</th>\n",
       "      <td>I want to set up an automation that sends a Sl...</td>\n",
       "      <td>Sure! Here's a step-by-step guide to set up th...</td>\n",
       "      <td>https://docs.clearfeed.ai/clearfeed-help-cente...</td>\n",
       "    </tr>\n",
       "    <tr>\n",
       "      <th>1</th>\n",
       "      <td>I'm trying to integrate ClearFeed with an exte...</td>\n",
       "      <td>Sure, I'd be happy to help you with the integr...</td>\n",
       "      <td>https://docs.clearfeed.ai/clearfeed-help-cente...</td>\n",
       "    </tr>\n",
       "    <tr>\n",
       "      <th>2</th>\n",
       "      <td>I'm trying to integrate ClearFeed with Jira Se...</td>\n",
       "      <td>Absolutely! Here's a step-by-step guide to int...</td>\n",
       "      <td>https://docs.clearfeed.ai/clearfeed-help-cente...</td>\n",
       "    </tr>\n",
       "    <tr>\n",
       "      <th>3</th>\n",
       "      <td>I'm trying to set up ticketing for my internal...</td>\n",
       "      <td>Sure! Here's a step-by-step guide to enable ti...</td>\n",
       "      <td>https://docs.clearfeed.ai/clearfeed-help-cente...</td>\n",
       "    </tr>\n",
       "    <tr>\n",
       "      <th>4</th>\n",
       "      <td>I'm trying to integrate ClearFeed with Microso...</td>\n",
       "      <td>To integrate ClearFeed with Microsoft Teams, y...</td>\n",
       "      <td>https://docs.clearfeed.ai/clearfeed-help-cente...</td>\n",
       "    </tr>\n",
       "  </tbody>\n",
       "</table>\n",
       "</div>"
      ],
      "text/plain": [
       "                                            question  \\\n",
       "0  I want to set up an automation that sends a Sl...   \n",
       "1  I'm trying to integrate ClearFeed with an exte...   \n",
       "2  I'm trying to integrate ClearFeed with Jira Se...   \n",
       "3  I'm trying to set up ticketing for my internal...   \n",
       "4  I'm trying to integrate ClearFeed with Microso...   \n",
       "\n",
       "                                              answer  \\\n",
       "0  Sure! Here's a step-by-step guide to set up th...   \n",
       "1  Sure, I'd be happy to help you with the integr...   \n",
       "2  Absolutely! Here's a step-by-step guide to int...   \n",
       "3  Sure! Here's a step-by-step guide to enable ti...   \n",
       "4  To integrate ClearFeed with Microsoft Teams, y...   \n",
       "\n",
       "                                                 url  \n",
       "0  https://docs.clearfeed.ai/clearfeed-help-cente...  \n",
       "1  https://docs.clearfeed.ai/clearfeed-help-cente...  \n",
       "2  https://docs.clearfeed.ai/clearfeed-help-cente...  \n",
       "3  https://docs.clearfeed.ai/clearfeed-help-cente...  \n",
       "4  https://docs.clearfeed.ai/clearfeed-help-cente...  "
      ]
     },
     "execution_count": 9,
     "metadata": {},
     "output_type": "execute_result"
    }
   ],
   "source": [
    "questions_df.head()"
   ]
  },
  {
   "cell_type": "code",
   "execution_count": 10,
   "metadata": {},
   "outputs": [],
   "source": [
    "with open('Clearfeed_kb.json', 'r') as f:\n",
    "    doc_data = json.load(f)"
   ]
  },
  {
   "cell_type": "code",
   "execution_count": 11,
   "metadata": {},
   "outputs": [],
   "source": [
    "def clean_text(input_text):\n",
    "    input_text = input_text.lower()\n",
    "    input_text = re.sub(r'[^\\w\\s]', '', input_text) \n",
    "    return input_text"
   ]
  },
  {
   "cell_type": "code",
   "execution_count": 12,
   "metadata": {},
   "outputs": [],
   "source": [
    "questions_df['processed_question'] = questions_df['question'].apply(clean_text)\n"
   ]
  },
  {
   "cell_type": "code",
   "execution_count": 13,
   "metadata": {},
   "outputs": [],
   "source": [
    "doc_content = {url: clean_text(data['title'] + \" \" + data['text']) for url, data in doc_data.items()}\n"
   ]
  },
  {
   "cell_type": "code",
   "execution_count": 14,
   "metadata": {},
   "outputs": [],
   "source": [
    "doc_urls = list(doc_content.keys())\n",
    "doc_texts = list(doc_content.values())"
   ]
  },
  {
   "cell_type": "code",
   "execution_count": 15,
   "metadata": {},
   "outputs": [],
   "source": [
    "text_vectorizer = TfidfVectorizer(max_features=2000, stop_words='english')\n"
   ]
  },
  {
   "cell_type": "code",
   "execution_count": 16,
   "metadata": {},
   "outputs": [],
   "source": [
    "doc_tfidf_matrix = text_vectorizer.fit_transform(doc_texts)\n"
   ]
  },
  {
   "cell_type": "code",
   "execution_count": 17,
   "metadata": {},
   "outputs": [],
   "source": [
    "def top_5_matches(query, vectorizer, tfidf_matrix, url_list, num_results=5):\n",
    "    \n",
    "    query_vector = vectorizer.transform([clean_text(query)])\n",
    "    \n",
    "    similarity_scores = cosine_similarity(query_vector, tfidf_matrix).flatten()\n",
    "    \n",
    "    top_indices = similarity_scores.argsort()[-num_results:][::-1]\n",
    "    \n",
    "    top_urls = [url_list[i] for i in top_indices]\n",
    "    return top_urls"
   ]
  },
  {
   "cell_type": "code",
   "execution_count": 20,
   "metadata": {},
   "outputs": [
    {
     "ename": "IndexError",
     "evalue": "single positional indexer is out-of-bounds",
     "output_type": "error",
     "traceback": [
      "\u001b[1;31m---------------------------------------------------------------------------\u001b[0m",
      "\u001b[1;31mIndexError\u001b[0m                                Traceback (most recent call last)",
      "\u001b[1;32m<ipython-input-20-8205534a6ad6>\u001b[0m in \u001b[0;36m<module>\u001b[1;34m\u001b[0m\n\u001b[1;32m----> 1\u001b[1;33m \u001b[0mexample_query\u001b[0m \u001b[1;33m=\u001b[0m \u001b[0mquestions_df\u001b[0m\u001b[1;33m[\u001b[0m\u001b[1;34m'question'\u001b[0m\u001b[1;33m]\u001b[0m\u001b[1;33m.\u001b[0m\u001b[0miloc\u001b[0m\u001b[1;33m[\u001b[0m\u001b[1;36m55\u001b[0m\u001b[1;33m]\u001b[0m\u001b[1;33m\u001b[0m\u001b[1;33m\u001b[0m\u001b[0m\n\u001b[0m\u001b[0;32m      2\u001b[0m \u001b[0mtop_urls_example\u001b[0m \u001b[1;33m=\u001b[0m \u001b[0mtop_5_matches\u001b[0m\u001b[1;33m(\u001b[0m\u001b[0mexample_query\u001b[0m\u001b[1;33m,\u001b[0m \u001b[0mtext_vectorizer\u001b[0m\u001b[1;33m,\u001b[0m \u001b[0mdoc_tfidf_matrix\u001b[0m\u001b[1;33m,\u001b[0m \u001b[0mdoc_urls\u001b[0m\u001b[1;33m)\u001b[0m\u001b[1;33m\u001b[0m\u001b[1;33m\u001b[0m\u001b[0m\n\u001b[0;32m      3\u001b[0m \u001b[0mprint\u001b[0m\u001b[1;33m(\u001b[0m\u001b[1;34m\"Example Query:\"\u001b[0m\u001b[1;33m,\u001b[0m \u001b[0mexample_query\u001b[0m\u001b[1;33m)\u001b[0m\u001b[1;33m\u001b[0m\u001b[1;33m\u001b[0m\u001b[0m\n\u001b[0;32m      4\u001b[0m \u001b[0mprint\u001b[0m\u001b[1;33m(\u001b[0m\u001b[1;34m\"Top Matching URLs:\"\u001b[0m\u001b[1;33m,\u001b[0m \u001b[0mtop_urls_example\u001b[0m\u001b[1;33m)\u001b[0m\u001b[1;33m\u001b[0m\u001b[1;33m\u001b[0m\u001b[0m\n",
      "\u001b[1;32mc:\\Users\\HP\\anaconda3\\lib\\site-packages\\pandas\\core\\indexing.py\u001b[0m in \u001b[0;36m__getitem__\u001b[1;34m(self, key)\u001b[0m\n\u001b[0;32m    877\u001b[0m \u001b[1;33m\u001b[0m\u001b[0m\n\u001b[0;32m    878\u001b[0m             \u001b[0mmaybe_callable\u001b[0m \u001b[1;33m=\u001b[0m \u001b[0mcom\u001b[0m\u001b[1;33m.\u001b[0m\u001b[0mapply_if_callable\u001b[0m\u001b[1;33m(\u001b[0m\u001b[0mkey\u001b[0m\u001b[1;33m,\u001b[0m \u001b[0mself\u001b[0m\u001b[1;33m.\u001b[0m\u001b[0mobj\u001b[0m\u001b[1;33m)\u001b[0m\u001b[1;33m\u001b[0m\u001b[1;33m\u001b[0m\u001b[0m\n\u001b[1;32m--> 879\u001b[1;33m             \u001b[1;32mreturn\u001b[0m \u001b[0mself\u001b[0m\u001b[1;33m.\u001b[0m\u001b[0m_getitem_axis\u001b[0m\u001b[1;33m(\u001b[0m\u001b[0mmaybe_callable\u001b[0m\u001b[1;33m,\u001b[0m \u001b[0maxis\u001b[0m\u001b[1;33m=\u001b[0m\u001b[0maxis\u001b[0m\u001b[1;33m)\u001b[0m\u001b[1;33m\u001b[0m\u001b[1;33m\u001b[0m\u001b[0m\n\u001b[0m\u001b[0;32m    880\u001b[0m \u001b[1;33m\u001b[0m\u001b[0m\n\u001b[0;32m    881\u001b[0m     \u001b[1;32mdef\u001b[0m \u001b[0m_is_scalar_access\u001b[0m\u001b[1;33m(\u001b[0m\u001b[0mself\u001b[0m\u001b[1;33m,\u001b[0m \u001b[0mkey\u001b[0m\u001b[1;33m:\u001b[0m \u001b[0mTuple\u001b[0m\u001b[1;33m)\u001b[0m\u001b[1;33m:\u001b[0m\u001b[1;33m\u001b[0m\u001b[1;33m\u001b[0m\u001b[0m\n",
      "\u001b[1;32mc:\\Users\\HP\\anaconda3\\lib\\site-packages\\pandas\\core\\indexing.py\u001b[0m in \u001b[0;36m_getitem_axis\u001b[1;34m(self, key, axis)\u001b[0m\n\u001b[0;32m   1494\u001b[0m \u001b[1;33m\u001b[0m\u001b[0m\n\u001b[0;32m   1495\u001b[0m             \u001b[1;31m# validate the location\u001b[0m\u001b[1;33m\u001b[0m\u001b[1;33m\u001b[0m\u001b[1;33m\u001b[0m\u001b[0m\n\u001b[1;32m-> 1496\u001b[1;33m             \u001b[0mself\u001b[0m\u001b[1;33m.\u001b[0m\u001b[0m_validate_integer\u001b[0m\u001b[1;33m(\u001b[0m\u001b[0mkey\u001b[0m\u001b[1;33m,\u001b[0m \u001b[0maxis\u001b[0m\u001b[1;33m)\u001b[0m\u001b[1;33m\u001b[0m\u001b[1;33m\u001b[0m\u001b[0m\n\u001b[0m\u001b[0;32m   1497\u001b[0m \u001b[1;33m\u001b[0m\u001b[0m\n\u001b[0;32m   1498\u001b[0m             \u001b[1;32mreturn\u001b[0m \u001b[0mself\u001b[0m\u001b[1;33m.\u001b[0m\u001b[0mobj\u001b[0m\u001b[1;33m.\u001b[0m\u001b[0m_ixs\u001b[0m\u001b[1;33m(\u001b[0m\u001b[0mkey\u001b[0m\u001b[1;33m,\u001b[0m \u001b[0maxis\u001b[0m\u001b[1;33m=\u001b[0m\u001b[0maxis\u001b[0m\u001b[1;33m)\u001b[0m\u001b[1;33m\u001b[0m\u001b[1;33m\u001b[0m\u001b[0m\n",
      "\u001b[1;32mc:\\Users\\HP\\anaconda3\\lib\\site-packages\\pandas\\core\\indexing.py\u001b[0m in \u001b[0;36m_validate_integer\u001b[1;34m(self, key, axis)\u001b[0m\n\u001b[0;32m   1435\u001b[0m         \u001b[0mlen_axis\u001b[0m \u001b[1;33m=\u001b[0m \u001b[0mlen\u001b[0m\u001b[1;33m(\u001b[0m\u001b[0mself\u001b[0m\u001b[1;33m.\u001b[0m\u001b[0mobj\u001b[0m\u001b[1;33m.\u001b[0m\u001b[0m_get_axis\u001b[0m\u001b[1;33m(\u001b[0m\u001b[0maxis\u001b[0m\u001b[1;33m)\u001b[0m\u001b[1;33m)\u001b[0m\u001b[1;33m\u001b[0m\u001b[1;33m\u001b[0m\u001b[0m\n\u001b[0;32m   1436\u001b[0m         \u001b[1;32mif\u001b[0m \u001b[0mkey\u001b[0m \u001b[1;33m>=\u001b[0m \u001b[0mlen_axis\u001b[0m \u001b[1;32mor\u001b[0m \u001b[0mkey\u001b[0m \u001b[1;33m<\u001b[0m \u001b[1;33m-\u001b[0m\u001b[0mlen_axis\u001b[0m\u001b[1;33m:\u001b[0m\u001b[1;33m\u001b[0m\u001b[1;33m\u001b[0m\u001b[0m\n\u001b[1;32m-> 1437\u001b[1;33m             \u001b[1;32mraise\u001b[0m \u001b[0mIndexError\u001b[0m\u001b[1;33m(\u001b[0m\u001b[1;34m\"single positional indexer is out-of-bounds\"\u001b[0m\u001b[1;33m)\u001b[0m\u001b[1;33m\u001b[0m\u001b[1;33m\u001b[0m\u001b[0m\n\u001b[0m\u001b[0;32m   1438\u001b[0m \u001b[1;33m\u001b[0m\u001b[0m\n\u001b[0;32m   1439\u001b[0m     \u001b[1;31m# -------------------------------------------------------------------\u001b[0m\u001b[1;33m\u001b[0m\u001b[1;33m\u001b[0m\u001b[1;33m\u001b[0m\u001b[0m\n",
      "\u001b[1;31mIndexError\u001b[0m: single positional indexer is out-of-bounds"
     ]
    }
   ],
   "source": [
    "example_query = questions_df['question'].iloc[55]\n",
    "top_urls_example = top_5_matches(example_query, text_vectorizer, doc_tfidf_matrix, doc_urls)\n",
    "print(\"Example Query:\", example_query)\n",
    "print(\"Top Matching URLs:\", top_urls_example)"
   ]
  },
  {
   "cell_type": "code",
   "execution_count": 21,
   "metadata": {},
   "outputs": [
    {
     "name": "stdout",
     "output_type": "stream",
     "text": [
      "Example Query: I'm trying to integrate ClearFeed with Jira Service Management (JSM) for our support team. Can you guide me through the process, including the installation and configuration steps?\n",
      "Top Matching URLs: ['https://docs.clearfeed.ai/clearfeed-help-center/integrations/jira-service-management', 'https://docs.clearfeed.ai/clearfeed-help-center/integrations/jira', 'https://docs.clearfeed.ai/clearfeed-help-center/getting-started/for-internal-support', 'https://docs.clearfeed.ai/clearfeed-help-center/integrations/jira/escalating-to-jira', 'https://docs.clearfeed.ai/clearfeed-help-center/getting-started/for-customer-support']\n"
     ]
    }
   ],
   "source": [
    "examplequery = questions_df['question'].iloc[15]\n",
    "top_urls_example = top_5_matches(example_query, text_vectorizer, doc_tfidf_matrix, doc_urls)\n",
    "print(\"Example Query:\", example_query)\n",
    "print(\"Top Matching URLs:\", top_urls_example)"
   ]
  },
  {
   "cell_type": "code",
   "execution_count": 26,
   "metadata": {},
   "outputs": [],
   "source": [
    "def evaluate_search_accuracy(data, vectorizer, tfidf_matrix, url_list):\n",
    "   \n",
    "    correct_count = 0\n",
    "\n",
    "    for _, row in data.iterrows():\n",
    "        question = row['question']\n",
    "        correct_url = row['URL']\n",
    "        \n",
    "        retrieved_urls = top_5_matches(question, vectorizer, tfidf_matrix, url_list)\n",
    "        \n",
    "        if correct_url in retrieved_urls:\n",
    "            correct_count += 1\n",
    "\n",
    "    precision5 = correct_count / len(data)\n",
    "    return precision5\n"
   ]
  },
  {
   "cell_type": "code",
   "execution_count": 27,
   "metadata": {},
   "outputs": [
    {
     "name": "stdout",
     "output_type": "stream",
     "text": [
      "The column 'URL' is missing in the DataFrame!\n"
     ]
    }
   ],
   "source": [
    "if 'URL' in questions_df.columns:\n",
    "    search_accuracy = evaluate_search_accuracy(questions_df, text_vectorizer, doc_tfidf_matrix, doc_urls)\n",
    "    print(f\"Search Accuracy (Precision@5): {search_accuracy:.2f}\")\n",
    "else:\n",
    "    print(\"The column 'URL' is missing in the DataFrame!\")"
   ]
  },
  {
   "cell_type": "code",
   "execution_count": null,
   "metadata": {},
   "outputs": [],
   "source": []
  }
 ],
 "metadata": {
  "kernelspec": {
   "display_name": "base",
   "language": "python",
   "name": "python3"
  },
  "language_info": {
   "codemirror_mode": {
    "name": "ipython",
    "version": 3
   },
   "file_extension": ".py",
   "mimetype": "text/x-python",
   "name": "python",
   "nbconvert_exporter": "python",
   "pygments_lexer": "ipython3",
   "version": "3.8.5"
  }
 },
 "nbformat": 4,
 "nbformat_minor": 2
}
